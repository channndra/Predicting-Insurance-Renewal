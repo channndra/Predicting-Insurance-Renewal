{
 "cells": [
  {
   "cell_type": "code",
   "execution_count": 1,
   "metadata": {},
   "outputs": [],
   "source": [
    "import pandas as pd\n",
    "import numpy as np\n",
    "\n",
    "import seaborn as sns\n",
    "import matplotlib.pyplot as plt\n",
    "%matplotlib inline"
   ]
  },
  {
   "cell_type": "markdown",
   "metadata": {},
   "source": [
    "#  Data Description\n",
    "\n",
    "- Id: Unique identifier untuk setiap pelanggan\n",
    "- Gender: Jenis kelamin pelanggan\n",
    "- Umur: Umur pelanggan saat ini\n",
    "- Izin Mengemudi: Kepemilikan SIM (1: Yes, 0: No)\n",
    "- Kode Wilayah: Unique code tempat tinggal pelanggan\n",
    "- Tanggal Asuransi: Tanggal pelanggan mulai melakukan layanan asuransi\n",
    "- Tahun Kendaraan: Lama waktu kepemilikan kendaraan\n",
    "- Biaya: Biaya asuransi yg perlu dibayarkan pelanggan tahun ini\n",
    "- Sourcing Channel: Nomor channel pelanggan mendapatkan informasi mengenai asuransi\n",
    "- Hari Diasuransikan: Lama hari pelanggan telah menjalin kerjasama asuransi\n",
    "- Target: Pelanggan tertarik melanjutkan asuransi = 1, sebaliknya = 0"
   ]
  },
  {
   "cell_type": "markdown",
   "metadata": {},
   "source": [
    "## Training set"
   ]
  },
  {
   "cell_type": "code",
   "execution_count": 2,
   "metadata": {},
   "outputs": [],
   "source": [
    "df_train=pd.read_csv('joints_train.csv')"
   ]
  },
  {
   "cell_type": "code",
   "execution_count": 3,
   "metadata": {},
   "outputs": [
    {
     "name": "stdout",
     "output_type": "stream",
     "text": [
      "<class 'pandas.core.frame.DataFrame'>\n",
      "RangeIndex: 382154 entries, 0 to 382153\n",
      "Data columns (total 11 columns):\n",
      " #   Column              Non-Null Count   Dtype  \n",
      "---  ------              --------------   -----  \n",
      " 0   id                  382154 non-null  int64  \n",
      " 1   Gender              350386 non-null  object \n",
      " 2   Umur                285896 non-null  float64\n",
      " 3   Izin_Mengemudi      305507 non-null  float64\n",
      " 4   Kode_Wilayah        298080 non-null  float64\n",
      " 5   Tanggal_Asuransi    304070 non-null  object \n",
      " 6   Tahun_Kendaraan     315714 non-null  object \n",
      " 7   Biaya               255617 non-null  float64\n",
      " 8   Sourcing_Channel    298509 non-null  float64\n",
      " 9   Hari_Diasuransikan  306488 non-null  float64\n",
      " 10  Target              382154 non-null  int64  \n",
      "dtypes: float64(6), int64(2), object(3)\n",
      "memory usage: 32.1+ MB\n"
     ]
    }
   ],
   "source": [
    "df_train.info()"
   ]
  },
  {
   "cell_type": "code",
   "execution_count": 4,
   "metadata": {},
   "outputs": [
    {
     "data": {
      "text/html": [
       "<div>\n",
       "<style scoped>\n",
       "    .dataframe tbody tr th:only-of-type {\n",
       "        vertical-align: middle;\n",
       "    }\n",
       "\n",
       "    .dataframe tbody tr th {\n",
       "        vertical-align: top;\n",
       "    }\n",
       "\n",
       "    .dataframe thead th {\n",
       "        text-align: right;\n",
       "    }\n",
       "</style>\n",
       "<table border=\"1\" class=\"dataframe\">\n",
       "  <thead>\n",
       "    <tr style=\"text-align: right;\">\n",
       "      <th></th>\n",
       "      <th>id</th>\n",
       "      <th>Gender</th>\n",
       "      <th>Umur</th>\n",
       "      <th>Izin_Mengemudi</th>\n",
       "      <th>Kode_Wilayah</th>\n",
       "      <th>Tanggal_Asuransi</th>\n",
       "      <th>Tahun_Kendaraan</th>\n",
       "      <th>Biaya</th>\n",
       "      <th>Sourcing_Channel</th>\n",
       "      <th>Hari_Diasuransikan</th>\n",
       "      <th>Target</th>\n",
       "    </tr>\n",
       "  </thead>\n",
       "  <tbody>\n",
       "    <tr>\n",
       "      <th>0</th>\n",
       "      <td>58609</td>\n",
       "      <td>Pria</td>\n",
       "      <td>65.0</td>\n",
       "      <td>1.0</td>\n",
       "      <td>48.0</td>\n",
       "      <td>11/4/2018</td>\n",
       "      <td>NaN</td>\n",
       "      <td>2630.0</td>\n",
       "      <td>15.0</td>\n",
       "      <td>131.0</td>\n",
       "      <td>0</td>\n",
       "    </tr>\n",
       "    <tr>\n",
       "      <th>1</th>\n",
       "      <td>208222</td>\n",
       "      <td>Wanita</td>\n",
       "      <td>22.0</td>\n",
       "      <td>1.0</td>\n",
       "      <td>21.0</td>\n",
       "      <td>2/2/2018</td>\n",
       "      <td>&lt;1 Tahun</td>\n",
       "      <td>NaN</td>\n",
       "      <td>NaN</td>\n",
       "      <td>NaN</td>\n",
       "      <td>0</td>\n",
       "    </tr>\n",
       "    <tr>\n",
       "      <th>2</th>\n",
       "      <td>345428</td>\n",
       "      <td>Wanita</td>\n",
       "      <td>24.0</td>\n",
       "      <td>1.0</td>\n",
       "      <td>NaN</td>\n",
       "      <td>5/12/2019</td>\n",
       "      <td>&lt;1 Tahun</td>\n",
       "      <td>NaN</td>\n",
       "      <td>NaN</td>\n",
       "      <td>181.0</td>\n",
       "      <td>0</td>\n",
       "    </tr>\n",
       "    <tr>\n",
       "      <th>3</th>\n",
       "      <td>236831</td>\n",
       "      <td>Pria</td>\n",
       "      <td>58.0</td>\n",
       "      <td>1.0</td>\n",
       "      <td>46.0</td>\n",
       "      <td>NaN</td>\n",
       "      <td>1-2 Tahun</td>\n",
       "      <td>NaN</td>\n",
       "      <td>124.0</td>\n",
       "      <td>NaN</td>\n",
       "      <td>0</td>\n",
       "    </tr>\n",
       "    <tr>\n",
       "      <th>4</th>\n",
       "      <td>280181</td>\n",
       "      <td>Pria</td>\n",
       "      <td>NaN</td>\n",
       "      <td>1.0</td>\n",
       "      <td>36.0</td>\n",
       "      <td>11/19/2019</td>\n",
       "      <td>&gt;2 Tahun</td>\n",
       "      <td>NaN</td>\n",
       "      <td>NaN</td>\n",
       "      <td>NaN</td>\n",
       "      <td>1</td>\n",
       "    </tr>\n",
       "  </tbody>\n",
       "</table>\n",
       "</div>"
      ],
      "text/plain": [
       "       id  Gender  Umur  Izin_Mengemudi  Kode_Wilayah Tanggal_Asuransi  \\\n",
       "0   58609    Pria  65.0             1.0          48.0        11/4/2018   \n",
       "1  208222  Wanita  22.0             1.0          21.0         2/2/2018   \n",
       "2  345428  Wanita  24.0             1.0           NaN        5/12/2019   \n",
       "3  236831    Pria  58.0             1.0          46.0              NaN   \n",
       "4  280181    Pria   NaN             1.0          36.0       11/19/2019   \n",
       "\n",
       "  Tahun_Kendaraan   Biaya  Sourcing_Channel  Hari_Diasuransikan  Target  \n",
       "0             NaN  2630.0              15.0               131.0       0  \n",
       "1        <1 Tahun     NaN               NaN                 NaN       0  \n",
       "2        <1 Tahun     NaN               NaN               181.0       0  \n",
       "3       1-2 Tahun     NaN             124.0                 NaN       0  \n",
       "4        >2 Tahun     NaN               NaN                 NaN       1  "
      ]
     },
     "execution_count": 4,
     "metadata": {},
     "output_type": "execute_result"
    }
   ],
   "source": [
    "df_train.head()"
   ]
  },
  {
   "cell_type": "code",
   "execution_count": 5,
   "metadata": {},
   "outputs": [
    {
     "data": {
      "text/plain": [
       "id                         0\n",
       "Gender                 31768\n",
       "Umur                   96258\n",
       "Izin_Mengemudi         76647\n",
       "Kode_Wilayah           84074\n",
       "Tanggal_Asuransi       78084\n",
       "Tahun_Kendaraan        66440\n",
       "Biaya                 126537\n",
       "Sourcing_Channel       83645\n",
       "Hari_Diasuransikan     75666\n",
       "Target                     0\n",
       "dtype: int64"
      ]
     },
     "execution_count": 5,
     "metadata": {},
     "output_type": "execute_result"
    }
   ],
   "source": [
    "df_train.isnull().sum()"
   ]
  },
  {
   "cell_type": "code",
   "execution_count": 6,
   "metadata": {},
   "outputs": [
    {
     "data": {
      "text/plain": [
       "0"
      ]
     },
     "execution_count": 6,
     "metadata": {},
     "output_type": "execute_result"
    }
   ],
   "source": [
    "df_train.duplicated().sum()"
   ]
  },
  {
   "cell_type": "markdown",
   "metadata": {},
   "source": [
    "## Exploratory Data Analysis "
   ]
  },
  {
   "cell_type": "code",
   "execution_count": 7,
   "metadata": {},
   "outputs": [
    {
     "data": {
      "image/png": "[encoded data removed]",
      "text/plain": [
       "<Figure size 400x300 with 1 Axes>"
      ]
     },
     "metadata": {},
     "output_type": "display_data"
    }
   ],
   "source": [
    "gender_counts = df_train['Target'].value_counts()\n",
    "plt.figure(figsize=(4, 3))\n",
    "gender_counts.plot(kind='bar', color='skyblue')\n",
    "plt.title('Target Feature Distribution')\n",
    "plt.xlabel('Target')\n",
    "plt.ylabel('Count')\n",
    "plt.show()"
   ]
  },
  {
   "cell_type": "code",
   "execution_count": 8,
   "metadata": {
    "scrolled": true
   },
   "outputs": [
    {
     "data": {
      "text/plain": [
       "Target\n",
       "0    319553\n",
       "1     62601\n",
       "Name: count, dtype: int64"
      ]
     },
     "execution_count": 8,
     "metadata": {},
     "output_type": "execute_result"
    }
   ],
   "source": [
    "df_train['Target'].value_counts()"
   ]
  },
  {
   "cell_type": "code",
   "execution_count": 9,
   "metadata": {},
   "outputs": [
    {
     "data": {
      "image/png": "[encoded data removed]",
      "text/plain": [
       "<Figure size 400x300 with 1 Axes>"
      ]
     },
     "metadata": {},
     "output_type": "display_data"
    }
   ],
   "source": [
    "gender_counts = df_train['Gender'].value_counts(dropna=False)\n",
    "\n",
    "plt.figure(figsize=(4, 3))\n",
    "gender_counts.plot(kind='bar', color='skyblue')\n",
    "plt.title('Gender Count')\n",
    "plt.xlabel('Gender')\n",
    "plt.ylabel('Count')\n",
    "plt.show()"
   ]
  },
  {
   "cell_type": "code",
   "execution_count": 10,
   "metadata": {},
   "outputs": [
    {
     "data": {
      "image/png": "[encoded data removed]",
      "text/plain": [
       "<Figure size 400x300 with 1 Axes>"
      ]
     },
     "metadata": {},
     "output_type": "display_data"
    }
   ],
   "source": [
    "plt.figure(figsize=(4, 3))\n",
    "plt.hist(df_train['Umur'], bins=20, color='skyblue', edgecolor='black')\n",
    "plt.title('Age Distribution')\n",
    "plt.xlabel('Age')\n",
    "plt.ylabel('Frequency')\n",
    "plt.show()"
   ]
  },
  {
   "cell_type": "code",
   "execution_count": 11,
   "metadata": {},
   "outputs": [
    {
     "data": {
      "image/png": "[encoded data removed]",
      "text/plain": [
       "<Figure size 400x300 with 1 Axes>"
      ]
     },
     "metadata": {},
     "output_type": "display_data"
    }
   ],
   "source": [
    "izin_mengemudi_counts = df_train['Izin_Mengemudi'].value_counts(dropna=False)\n",
    "\n",
    "plt.figure(figsize=(4, 3))\n",
    "izin_mengemudi_counts.plot(kind='bar', color='skyblue')\n",
    "plt.title('Izin Mengemudi Count')\n",
    "plt.xlabel('Izin_Mengemudi')\n",
    "plt.ylabel('Count')\n",
    "plt.show()"
   ]
  },
  {
   "cell_type": "code",
   "execution_count": 12,
   "metadata": {},
   "outputs": [
    {
     "data": {
      "image/png": "[encoded data removed]",
      "text/plain": [
       "<Figure size 400x300 with 1 Axes>"
      ]
     },
     "metadata": {},
     "output_type": "display_data"
    }
   ],
   "source": [
    "plt.figure(figsize=(4, 3))\n",
    "plt.hist(df_train['Kode_Wilayah'], bins=20, color='skyblue', edgecolor='black')\n",
    "plt.title('Kode Wilayah Distribution')\n",
    "plt.xlabel('Kode_Wilayah')\n",
    "plt.ylabel('Frequency')\n",
    "plt.show()"
   ]
  },
  {
   "cell_type": "code",
   "execution_count": 13,
   "metadata": {},
   "outputs": [],
   "source": [
    "#tanggal asuransi\n",
    "df_train['Tanggal_Asuransi'] = df_train['Tanggal_Asuransi'].fillna('0/0/0')\n",
    "df_train['Tanggal'] = df_train['Tanggal_Asuransi'].apply(lambda x:x.split('/')[1])\n",
    "df_train['Tanggal']=df_train['Tanggal'].apply(int)"
   ]
  },
  {
   "cell_type": "code",
   "execution_count": 14,
   "metadata": {},
   "outputs": [],
   "source": [
    "#bulan asuransi\n",
    "df_train['Bulan'] = df_train['Tanggal_Asuransi'].apply(lambda x:x.split('/')[0])\n",
    "df_train['Bulan']=df_train['Bulan'].apply(int)"
   ]
  },
  {
   "cell_type": "code",
   "execution_count": 15,
   "metadata": {},
   "outputs": [],
   "source": [
    "#tahun asuransi\n",
    "df_train['Tahun'] = df_train['Tanggal_Asuransi'].apply(lambda x:x.split('/')[2])\n",
    "df_train['Tahun']=df_train['Tahun'].apply(int)"
   ]
  },
  {
   "cell_type": "code",
   "execution_count": 16,
   "metadata": {},
   "outputs": [
    {
     "data": {
      "image/png": "[encoded data removed]",
      "text/plain": [
       "<Figure size 800x300 with 1 Axes>"
      ]
     },
     "metadata": {},
     "output_type": "display_data"
    }
   ],
   "source": [
    "plt.figure(figsize=(8, 3))\n",
    "plt.hist(df_train['Tanggal'], bins=30, color='skyblue', edgecolor='black')\n",
    "plt.title('Tanggal Distribution')\n",
    "plt.xlabel('Tanggal')\n",
    "plt.ylabel('Frequency')\n",
    "plt.show()"
   ]
  },
  {
   "cell_type": "code",
   "execution_count": 17,
   "metadata": {},
   "outputs": [
    {
     "data": {
      "image/png": "[encoded data removed]",
      "text/plain": [
       "<Figure size 800x300 with 1 Axes>"
      ]
     },
     "metadata": {},
     "output_type": "display_data"
    }
   ],
   "source": [
    "plt.figure(figsize=(8, 3))\n",
    "plt.hist(df_train['Bulan'], bins=30, color='skyblue', edgecolor='black')\n",
    "plt.title('Bulan Distribution')\n",
    "plt.xlabel('Bulan')\n",
    "plt.ylabel('Frequency')\n",
    "plt.show()"
   ]
  },
  {
   "cell_type": "code",
   "execution_count": 18,
   "metadata": {},
   "outputs": [
    {
     "data": {
      "image/png": "[encoded data removed]",
      "text/plain": [
       "<Figure size 800x300 with 1 Axes>"
      ]
     },
     "metadata": {},
     "output_type": "display_data"
    }
   ],
   "source": [
    "plt.figure(figsize=(8, 3))\n",
    "plt.hist(df_train['Tahun'], bins=30, color='skyblue', edgecolor='black')\n",
    "plt.title('Tahun Distribution')\n",
    "plt.xlabel('Tahun')\n",
    "plt.ylabel('Frequency')\n",
    "plt.show()"
   ]
  },
  {
   "cell_type": "code",
   "execution_count": 19,
   "metadata": {},
   "outputs": [
    {
     "data": {
      "text/plain": [
       "Tahun\n",
       "2019    133545\n",
       "2018    121097\n",
       "0        78084\n",
       "2020     49428\n",
       "Name: count, dtype: int64"
      ]
     },
     "execution_count": 19,
     "metadata": {},
     "output_type": "execute_result"
    }
   ],
   "source": [
    "df_train['Tahun'].value_counts()"
   ]
  },
  {
   "cell_type": "code",
   "execution_count": 20,
   "metadata": {},
   "outputs": [
    {
     "data": {
      "image/png": "[encoded data removed]",
      "text/plain": [
       "<Figure size 800x300 with 1 Axes>"
      ]
     },
     "metadata": {},
     "output_type": "display_data"
    }
   ],
   "source": [
    "tahun_kendaraan_counts = df_train['Tahun_Kendaraan'].value_counts(dropna=False)\n",
    "\n",
    "plt.figure(figsize=(8, 3))\n",
    "tahun_kendaraan_counts.plot(kind='barh', color='skyblue')\n",
    "plt.title('Tahun Kendaraan Count')\n",
    "plt.xlabel('Count')\n",
    "plt.ylabel('Tahun Kendaraan')\n",
    "plt.show()"
   ]
  },
  {
   "cell_type": "code",
   "execution_count": 21,
   "metadata": {},
   "outputs": [
    {
     "data": {
      "image/png": "[encoded data removed]",
      "text/plain": [
       "<Figure size 800x300 with 1 Axes>"
      ]
     },
     "metadata": {},
     "output_type": "display_data"
    }
   ],
   "source": [
    "plt.figure(figsize=(8, 3))\n",
    "plt.hist(df_train['Biaya'], bins=30, color='skyblue', edgecolor='black')\n",
    "plt.title('Biaya Distribution')\n",
    "plt.xlabel('Biaya')\n",
    "plt.ylabel('Frequency')\n",
    "plt.show()"
   ]
  },
  {
   "cell_type": "code",
   "execution_count": 22,
   "metadata": {},
   "outputs": [
    {
     "data": {
      "image/png": "[encoded data removed]",
      "text/plain": [
       "<Figure size 800x300 with 1 Axes>"
      ]
     },
     "metadata": {},
     "output_type": "display_data"
    }
   ],
   "source": [
    "plt.figure(figsize=(8, 3))\n",
    "plt.hist(df_train['Sourcing_Channel'], bins=30, color='skyblue', edgecolor='black')\n",
    "plt.title('Sourcing_Channel Distribution')\n",
    "plt.xlabel('Sourcing_Channel')\n",
    "plt.ylabel('Frequency')\n",
    "plt.show()"
   ]
  },
  {
   "cell_type": "code",
   "execution_count": 23,
   "metadata": {},
   "outputs": [
    {
     "data": {
      "image/png": "[encoded data removed]",
      "text/plain": [
       "<Figure size 800x300 with 1 Axes>"
      ]
     },
     "metadata": {},
     "output_type": "display_data"
    }
   ],
   "source": [
    "plt.figure(figsize=(8, 3))\n",
    "plt.hist(df_train['Hari_Diasuransikan'], bins=30, color='skyblue', edgecolor='black')\n",
    "plt.title('Hari Diasuransikan Distribution')\n",
    "plt.xlabel('Hari Diasuransikan')\n",
    "plt.ylabel('Frequency')\n",
    "plt.show()"
   ]
  },
  {
   "cell_type": "code",
   "execution_count": 24,
   "metadata": {},
   "outputs": [],
   "source": [
    "#missing value GENDER diisi kelas mayoritas\n",
    "#missing value UMUR diisi median\n",
    "#Missing value IZIN MENGEMUDI diisi kelas mayoritas\n",
    "#missing value KODE WILAYAH diisi kelas mayoritas\n",
    "#missing value TANGGAL ASURANSI diisi kelas mayoritas\n",
    "#missing value TAHUN KENDARAAN diisi kelas mayoritas\n",
    "#missing value BIAYA diisi median\n",
    "#missing value SOURCING CHANNEL diisi kelas mayoritas\n",
    "#missing value HARI DIASURANSIKAN diisi"
   ]
  },
  {
   "cell_type": "code",
   "execution_count": 25,
   "metadata": {},
   "outputs": [],
   "source": [
    "df_train['Gender'] = df_train['Gender'].fillna('Pria')\n",
    "df_train['Umur'] = df_train['Umur'].fillna(df_train['Umur'].median())\n",
    "df_train['Izin_Mengemudi'] = df_train['Izin_Mengemudi'].fillna(1.0)\n",
    "df_train['Kode_Wilayah'] = df_train['Kode_Wilayah'].fillna(28.0)\n",
    "\n",
    "df_train['Tahun_Kendaraan'] = df_train['Tahun_Kendaraan'].fillna('1-2 Tahun')\n",
    "df_train['Biaya'] = df_train['Biaya'].fillna(df_train['Biaya'].median())\n",
    "df_train['Sourcing_Channel'] = df_train['Sourcing_Channel'].fillna(152.0)\n",
    "df_train['Hari_Diasuransikan'] = df_train['Hari_Diasuransikan'].fillna(df_train['Hari_Diasuransikan'].mean())\n",
    "\n",
    "df_train[\"Tanggal\"].fillna(method='bfill', inplace=True)\n",
    "df_train[\"Bulan\"].fillna(method='bfill', inplace=True)\n",
    "df_train[\"Tahun\"].fillna(method='bfill', inplace=True)"
   ]
  },
  {
   "cell_type": "code",
   "execution_count": 26,
   "metadata": {},
   "outputs": [
    {
     "data": {
      "text/plain": [
       "id                    0\n",
       "Gender                0\n",
       "Umur                  0\n",
       "Izin_Mengemudi        0\n",
       "Kode_Wilayah          0\n",
       "Tanggal_Asuransi      0\n",
       "Tahun_Kendaraan       0\n",
       "Biaya                 0\n",
       "Sourcing_Channel      0\n",
       "Hari_Diasuransikan    0\n",
       "Target                0\n",
       "Tanggal               0\n",
       "Bulan                 0\n",
       "Tahun                 0\n",
       "dtype: int64"
      ]
     },
     "execution_count": 26,
     "metadata": {},
     "output_type": "execute_result"
    }
   ],
   "source": [
    "df_train.isnull().sum()"
   ]
  },
  {
   "cell_type": "code",
   "execution_count": 27,
   "metadata": {},
   "outputs": [
    {
     "data": {
      "text/html": [
       "<div>\n",
       "<style scoped>\n",
       "    .dataframe tbody tr th:only-of-type {\n",
       "        vertical-align: middle;\n",
       "    }\n",
       "\n",
       "    .dataframe tbody tr th {\n",
       "        vertical-align: top;\n",
       "    }\n",
       "\n",
       "    .dataframe thead th {\n",
       "        text-align: right;\n",
       "    }\n",
       "</style>\n",
       "<table border=\"1\" class=\"dataframe\">\n",
       "  <thead>\n",
       "    <tr style=\"text-align: right;\">\n",
       "      <th></th>\n",
       "      <th>id</th>\n",
       "      <th>Gender</th>\n",
       "      <th>Umur</th>\n",
       "      <th>Izin_Mengemudi</th>\n",
       "      <th>Kode_Wilayah</th>\n",
       "      <th>Tanggal_Asuransi</th>\n",
       "      <th>Tahun_Kendaraan</th>\n",
       "      <th>Biaya</th>\n",
       "      <th>Sourcing_Channel</th>\n",
       "      <th>Hari_Diasuransikan</th>\n",
       "      <th>Target</th>\n",
       "      <th>Tanggal</th>\n",
       "      <th>Bulan</th>\n",
       "      <th>Tahun</th>\n",
       "    </tr>\n",
       "  </thead>\n",
       "  <tbody>\n",
       "    <tr>\n",
       "      <th>0</th>\n",
       "      <td>58609</td>\n",
       "      <td>Pria</td>\n",
       "      <td>65.0</td>\n",
       "      <td>1.0</td>\n",
       "      <td>48.0</td>\n",
       "      <td>11/4/2018</td>\n",
       "      <td>1-2 Tahun</td>\n",
       "      <td>2630.0</td>\n",
       "      <td>15.0</td>\n",
       "      <td>131.000000</td>\n",
       "      <td>0</td>\n",
       "      <td>4</td>\n",
       "      <td>11</td>\n",
       "      <td>2018</td>\n",
       "    </tr>\n",
       "    <tr>\n",
       "      <th>1</th>\n",
       "      <td>208222</td>\n",
       "      <td>Wanita</td>\n",
       "      <td>22.0</td>\n",
       "      <td>1.0</td>\n",
       "      <td>21.0</td>\n",
       "      <td>2/2/2018</td>\n",
       "      <td>&lt;1 Tahun</td>\n",
       "      <td>31887.0</td>\n",
       "      <td>152.0</td>\n",
       "      <td>154.168995</td>\n",
       "      <td>0</td>\n",
       "      <td>2</td>\n",
       "      <td>2</td>\n",
       "      <td>2018</td>\n",
       "    </tr>\n",
       "    <tr>\n",
       "      <th>2</th>\n",
       "      <td>345428</td>\n",
       "      <td>Wanita</td>\n",
       "      <td>24.0</td>\n",
       "      <td>1.0</td>\n",
       "      <td>28.0</td>\n",
       "      <td>5/12/2019</td>\n",
       "      <td>&lt;1 Tahun</td>\n",
       "      <td>31887.0</td>\n",
       "      <td>152.0</td>\n",
       "      <td>181.000000</td>\n",
       "      <td>0</td>\n",
       "      <td>12</td>\n",
       "      <td>5</td>\n",
       "      <td>2019</td>\n",
       "    </tr>\n",
       "    <tr>\n",
       "      <th>3</th>\n",
       "      <td>236831</td>\n",
       "      <td>Pria</td>\n",
       "      <td>58.0</td>\n",
       "      <td>1.0</td>\n",
       "      <td>46.0</td>\n",
       "      <td>0/0/0</td>\n",
       "      <td>1-2 Tahun</td>\n",
       "      <td>31887.0</td>\n",
       "      <td>124.0</td>\n",
       "      <td>154.168995</td>\n",
       "      <td>0</td>\n",
       "      <td>0</td>\n",
       "      <td>0</td>\n",
       "      <td>0</td>\n",
       "    </tr>\n",
       "    <tr>\n",
       "      <th>4</th>\n",
       "      <td>280181</td>\n",
       "      <td>Pria</td>\n",
       "      <td>33.0</td>\n",
       "      <td>1.0</td>\n",
       "      <td>36.0</td>\n",
       "      <td>11/19/2019</td>\n",
       "      <td>&gt;2 Tahun</td>\n",
       "      <td>31887.0</td>\n",
       "      <td>152.0</td>\n",
       "      <td>154.168995</td>\n",
       "      <td>1</td>\n",
       "      <td>19</td>\n",
       "      <td>11</td>\n",
       "      <td>2019</td>\n",
       "    </tr>\n",
       "  </tbody>\n",
       "</table>\n",
       "</div>"
      ],
      "text/plain": [
       "       id  Gender  Umur  Izin_Mengemudi  Kode_Wilayah Tanggal_Asuransi  \\\n",
       "0   58609    Pria  65.0             1.0          48.0        11/4/2018   \n",
       "1  208222  Wanita  22.0             1.0          21.0         2/2/2018   \n",
       "2  345428  Wanita  24.0             1.0          28.0        5/12/2019   \n",
       "3  236831    Pria  58.0             1.0          46.0            0/0/0   \n",
       "4  280181    Pria  33.0             1.0          36.0       11/19/2019   \n",
       "\n",
       "  Tahun_Kendaraan    Biaya  Sourcing_Channel  Hari_Diasuransikan  Target  \\\n",
       "0       1-2 Tahun   2630.0              15.0          131.000000       0   \n",
       "1        <1 Tahun  31887.0             152.0          154.168995       0   \n",
       "2        <1 Tahun  31887.0             152.0          181.000000       0   \n",
       "3       1-2 Tahun  31887.0             124.0          154.168995       0   \n",
       "4        >2 Tahun  31887.0             152.0          154.168995       1   \n",
       "\n",
       "   Tanggal  Bulan  Tahun  \n",
       "0        4     11   2018  \n",
       "1        2      2   2018  \n",
       "2       12      5   2019  \n",
       "3        0      0      0  \n",
       "4       19     11   2019  "
      ]
     },
     "execution_count": 27,
     "metadata": {},
     "output_type": "execute_result"
    }
   ],
   "source": [
    "df_train.head()"
   ]
  },
  {
   "cell_type": "code",
   "execution_count": 28,
   "metadata": {},
   "outputs": [
    {
     "data": {
      "text/html": [
       "<div>\n",
       "<style scoped>\n",
       "    .dataframe tbody tr th:only-of-type {\n",
       "        vertical-align: middle;\n",
       "    }\n",
       "\n",
       "    .dataframe tbody tr th {\n",
       "        vertical-align: top;\n",
       "    }\n",
       "\n",
       "    .dataframe thead th {\n",
       "        text-align: right;\n",
       "    }\n",
       "</style>\n",
       "<table border=\"1\" class=\"dataframe\">\n",
       "  <thead>\n",
       "    <tr style=\"text-align: right;\">\n",
       "      <th></th>\n",
       "      <th>id</th>\n",
       "      <th>Gender</th>\n",
       "      <th>Umur</th>\n",
       "      <th>Izin_Mengemudi</th>\n",
       "      <th>Kode_Wilayah</th>\n",
       "      <th>Tanggal_Asuransi</th>\n",
       "      <th>Tahun_Kendaraan</th>\n",
       "      <th>Biaya</th>\n",
       "      <th>Sourcing_Channel</th>\n",
       "      <th>Hari_Diasuransikan</th>\n",
       "      <th>Target</th>\n",
       "      <th>Tanggal</th>\n",
       "      <th>Bulan</th>\n",
       "      <th>Tahun</th>\n",
       "    </tr>\n",
       "  </thead>\n",
       "  <tbody>\n",
       "    <tr>\n",
       "      <th>0</th>\n",
       "      <td>58609</td>\n",
       "      <td>0</td>\n",
       "      <td>65.0</td>\n",
       "      <td>1.0</td>\n",
       "      <td>48.0</td>\n",
       "      <td>11/4/2018</td>\n",
       "      <td>1-2 Tahun</td>\n",
       "      <td>2630.0</td>\n",
       "      <td>15.0</td>\n",
       "      <td>131.000000</td>\n",
       "      <td>0</td>\n",
       "      <td>4</td>\n",
       "      <td>11</td>\n",
       "      <td>2018</td>\n",
       "    </tr>\n",
       "    <tr>\n",
       "      <th>1</th>\n",
       "      <td>208222</td>\n",
       "      <td>1</td>\n",
       "      <td>22.0</td>\n",
       "      <td>1.0</td>\n",
       "      <td>21.0</td>\n",
       "      <td>2/2/2018</td>\n",
       "      <td>&lt;1 Tahun</td>\n",
       "      <td>31887.0</td>\n",
       "      <td>152.0</td>\n",
       "      <td>154.168995</td>\n",
       "      <td>0</td>\n",
       "      <td>2</td>\n",
       "      <td>2</td>\n",
       "      <td>2018</td>\n",
       "    </tr>\n",
       "    <tr>\n",
       "      <th>2</th>\n",
       "      <td>345428</td>\n",
       "      <td>1</td>\n",
       "      <td>24.0</td>\n",
       "      <td>1.0</td>\n",
       "      <td>28.0</td>\n",
       "      <td>5/12/2019</td>\n",
       "      <td>&lt;1 Tahun</td>\n",
       "      <td>31887.0</td>\n",
       "      <td>152.0</td>\n",
       "      <td>181.000000</td>\n",
       "      <td>0</td>\n",
       "      <td>12</td>\n",
       "      <td>5</td>\n",
       "      <td>2019</td>\n",
       "    </tr>\n",
       "    <tr>\n",
       "      <th>3</th>\n",
       "      <td>236831</td>\n",
       "      <td>0</td>\n",
       "      <td>58.0</td>\n",
       "      <td>1.0</td>\n",
       "      <td>46.0</td>\n",
       "      <td>0/0/0</td>\n",
       "      <td>1-2 Tahun</td>\n",
       "      <td>31887.0</td>\n",
       "      <td>124.0</td>\n",
       "      <td>154.168995</td>\n",
       "      <td>0</td>\n",
       "      <td>0</td>\n",
       "      <td>0</td>\n",
       "      <td>0</td>\n",
       "    </tr>\n",
       "    <tr>\n",
       "      <th>4</th>\n",
       "      <td>280181</td>\n",
       "      <td>0</td>\n",
       "      <td>33.0</td>\n",
       "      <td>1.0</td>\n",
       "      <td>36.0</td>\n",
       "      <td>11/19/2019</td>\n",
       "      <td>&gt;2 Tahun</td>\n",
       "      <td>31887.0</td>\n",
       "      <td>152.0</td>\n",
       "      <td>154.168995</td>\n",
       "      <td>1</td>\n",
       "      <td>19</td>\n",
       "      <td>11</td>\n",
       "      <td>2019</td>\n",
       "    </tr>\n",
       "  </tbody>\n",
       "</table>\n",
       "</div>"
      ],
      "text/plain": [
       "       id  Gender  Umur  Izin_Mengemudi  Kode_Wilayah Tanggal_Asuransi  \\\n",
       "0   58609       0  65.0             1.0          48.0        11/4/2018   \n",
       "1  208222       1  22.0             1.0          21.0         2/2/2018   \n",
       "2  345428       1  24.0             1.0          28.0        5/12/2019   \n",
       "3  236831       0  58.0             1.0          46.0            0/0/0   \n",
       "4  280181       0  33.0             1.0          36.0       11/19/2019   \n",
       "\n",
       "  Tahun_Kendaraan    Biaya  Sourcing_Channel  Hari_Diasuransikan  Target  \\\n",
       "0       1-2 Tahun   2630.0              15.0          131.000000       0   \n",
       "1        <1 Tahun  31887.0             152.0          154.168995       0   \n",
       "2        <1 Tahun  31887.0             152.0          181.000000       0   \n",
       "3       1-2 Tahun  31887.0             124.0          154.168995       0   \n",
       "4        >2 Tahun  31887.0             152.0          154.168995       1   \n",
       "\n",
       "   Tanggal  Bulan  Tahun  \n",
       "0        4     11   2018  \n",
       "1        2      2   2018  \n",
       "2       12      5   2019  \n",
       "3        0      0      0  \n",
       "4       19     11   2019  "
      ]
     },
     "execution_count": 28,
     "metadata": {},
     "output_type": "execute_result"
    }
   ],
   "source": [
    "from sklearn.preprocessing import OrdinalEncoder\n",
    "\n",
    "ordinal_encoder = OrdinalEncoder(categories=[['Pria','Wanita']])\n",
    "df_train['Gender'] = ordinal_encoder.fit_transform(df_train[['Gender']])\n",
    "df_train['Gender'] = df_train['Gender'].astype(int)\n",
    "df_train.head()"
   ]
  },
  {
   "cell_type": "code",
   "execution_count": 29,
   "metadata": {},
   "outputs": [
    {
     "data": {
      "text/html": [
       "<div>\n",
       "<style scoped>\n",
       "    .dataframe tbody tr th:only-of-type {\n",
       "        vertical-align: middle;\n",
       "    }\n",
       "\n",
       "    .dataframe tbody tr th {\n",
       "        vertical-align: top;\n",
       "    }\n",
       "\n",
       "    .dataframe thead th {\n",
       "        text-align: right;\n",
       "    }\n",
       "</style>\n",
       "<table border=\"1\" class=\"dataframe\">\n",
       "  <thead>\n",
       "    <tr style=\"text-align: right;\">\n",
       "      <th></th>\n",
       "      <th>id</th>\n",
       "      <th>Gender</th>\n",
       "      <th>Umur</th>\n",
       "      <th>Izin_Mengemudi</th>\n",
       "      <th>Kode_Wilayah</th>\n",
       "      <th>Tanggal_Asuransi</th>\n",
       "      <th>Tahun_Kendaraan</th>\n",
       "      <th>Biaya</th>\n",
       "      <th>Sourcing_Channel</th>\n",
       "      <th>Hari_Diasuransikan</th>\n",
       "      <th>Target</th>\n",
       "      <th>Tanggal</th>\n",
       "      <th>Bulan</th>\n",
       "      <th>Tahun</th>\n",
       "    </tr>\n",
       "  </thead>\n",
       "  <tbody>\n",
       "    <tr>\n",
       "      <th>0</th>\n",
       "      <td>58609</td>\n",
       "      <td>0</td>\n",
       "      <td>65.0</td>\n",
       "      <td>1.0</td>\n",
       "      <td>48.0</td>\n",
       "      <td>11/4/2018</td>\n",
       "      <td>1</td>\n",
       "      <td>2630.0</td>\n",
       "      <td>15.0</td>\n",
       "      <td>131.000000</td>\n",
       "      <td>0</td>\n",
       "      <td>4</td>\n",
       "      <td>11</td>\n",
       "      <td>2018</td>\n",
       "    </tr>\n",
       "    <tr>\n",
       "      <th>1</th>\n",
       "      <td>208222</td>\n",
       "      <td>1</td>\n",
       "      <td>22.0</td>\n",
       "      <td>1.0</td>\n",
       "      <td>21.0</td>\n",
       "      <td>2/2/2018</td>\n",
       "      <td>0</td>\n",
       "      <td>31887.0</td>\n",
       "      <td>152.0</td>\n",
       "      <td>154.168995</td>\n",
       "      <td>0</td>\n",
       "      <td>2</td>\n",
       "      <td>2</td>\n",
       "      <td>2018</td>\n",
       "    </tr>\n",
       "    <tr>\n",
       "      <th>2</th>\n",
       "      <td>345428</td>\n",
       "      <td>1</td>\n",
       "      <td>24.0</td>\n",
       "      <td>1.0</td>\n",
       "      <td>28.0</td>\n",
       "      <td>5/12/2019</td>\n",
       "      <td>0</td>\n",
       "      <td>31887.0</td>\n",
       "      <td>152.0</td>\n",
       "      <td>181.000000</td>\n",
       "      <td>0</td>\n",
       "      <td>12</td>\n",
       "      <td>5</td>\n",
       "      <td>2019</td>\n",
       "    </tr>\n",
       "    <tr>\n",
       "      <th>3</th>\n",
       "      <td>236831</td>\n",
       "      <td>0</td>\n",
       "      <td>58.0</td>\n",
       "      <td>1.0</td>\n",
       "      <td>46.0</td>\n",
       "      <td>0/0/0</td>\n",
       "      <td>1</td>\n",
       "      <td>31887.0</td>\n",
       "      <td>124.0</td>\n",
       "      <td>154.168995</td>\n",
       "      <td>0</td>\n",
       "      <td>0</td>\n",
       "      <td>0</td>\n",
       "      <td>0</td>\n",
       "    </tr>\n",
       "    <tr>\n",
       "      <th>4</th>\n",
       "      <td>280181</td>\n",
       "      <td>0</td>\n",
       "      <td>33.0</td>\n",
       "      <td>1.0</td>\n",
       "      <td>36.0</td>\n",
       "      <td>11/19/2019</td>\n",
       "      <td>2</td>\n",
       "      <td>31887.0</td>\n",
       "      <td>152.0</td>\n",
       "      <td>154.168995</td>\n",
       "      <td>1</td>\n",
       "      <td>19</td>\n",
       "      <td>11</td>\n",
       "      <td>2019</td>\n",
       "    </tr>\n",
       "  </tbody>\n",
       "</table>\n",
       "</div>"
      ],
      "text/plain": [
       "       id  Gender  Umur  Izin_Mengemudi  Kode_Wilayah Tanggal_Asuransi  \\\n",
       "0   58609       0  65.0             1.0          48.0        11/4/2018   \n",
       "1  208222       1  22.0             1.0          21.0         2/2/2018   \n",
       "2  345428       1  24.0             1.0          28.0        5/12/2019   \n",
       "3  236831       0  58.0             1.0          46.0            0/0/0   \n",
       "4  280181       0  33.0             1.0          36.0       11/19/2019   \n",
       "\n",
       "   Tahun_Kendaraan    Biaya  Sourcing_Channel  Hari_Diasuransikan  Target  \\\n",
       "0                1   2630.0              15.0          131.000000       0   \n",
       "1                0  31887.0             152.0          154.168995       0   \n",
       "2                0  31887.0             152.0          181.000000       0   \n",
       "3                1  31887.0             124.0          154.168995       0   \n",
       "4                2  31887.0             152.0          154.168995       1   \n",
       "\n",
       "   Tanggal  Bulan  Tahun  \n",
       "0        4     11   2018  \n",
       "1        2      2   2018  \n",
       "2       12      5   2019  \n",
       "3        0      0      0  \n",
       "4       19     11   2019  "
      ]
     },
     "execution_count": 29,
     "metadata": {},
     "output_type": "execute_result"
    }
   ],
   "source": [
    "from sklearn.preprocessing import OrdinalEncoder\n",
    "\n",
    "ordinal_encoder = OrdinalEncoder(categories=[['<1 Tahun', '1-2 Tahun', '>2 Tahun']])\n",
    "df_train['Tahun_Kendaraan'] = ordinal_encoder.fit_transform(df_train[['Tahun_Kendaraan']])\n",
    "df_train['Tahun_Kendaraan'] = df_train['Tahun_Kendaraan'].astype(int)\n",
    "df_train.head()"
   ]
  },
  {
   "cell_type": "code",
   "execution_count": 30,
   "metadata": {},
   "outputs": [
    {
     "data": {
      "text/html": [
       "<div>\n",
       "<style scoped>\n",
       "    .dataframe tbody tr th:only-of-type {\n",
       "        vertical-align: middle;\n",
       "    }\n",
       "\n",
       "    .dataframe tbody tr th {\n",
       "        vertical-align: top;\n",
       "    }\n",
       "\n",
       "    .dataframe thead th {\n",
       "        text-align: right;\n",
       "    }\n",
       "</style>\n",
       "<table border=\"1\" class=\"dataframe\">\n",
       "  <thead>\n",
       "    <tr style=\"text-align: right;\">\n",
       "      <th></th>\n",
       "      <th>id</th>\n",
       "      <th>Gender</th>\n",
       "      <th>Umur</th>\n",
       "      <th>Izin_Mengemudi</th>\n",
       "      <th>Kode_Wilayah</th>\n",
       "      <th>Tanggal_Asuransi</th>\n",
       "      <th>Tahun_Kendaraan</th>\n",
       "      <th>Biaya</th>\n",
       "      <th>Sourcing_Channel</th>\n",
       "      <th>Hari_Diasuransikan</th>\n",
       "      <th>Target</th>\n",
       "      <th>Tanggal</th>\n",
       "      <th>Bulan</th>\n",
       "      <th>Tahun</th>\n",
       "    </tr>\n",
       "  </thead>\n",
       "  <tbody>\n",
       "    <tr>\n",
       "      <th>0</th>\n",
       "      <td>58609</td>\n",
       "      <td>0</td>\n",
       "      <td>65.0</td>\n",
       "      <td>1.0</td>\n",
       "      <td>48.0</td>\n",
       "      <td>11/4/2018</td>\n",
       "      <td>1</td>\n",
       "      <td>-1.913262</td>\n",
       "      <td>15.0</td>\n",
       "      <td>-3.090201e-01</td>\n",
       "      <td>0</td>\n",
       "      <td>4</td>\n",
       "      <td>11</td>\n",
       "      <td>2018</td>\n",
       "    </tr>\n",
       "    <tr>\n",
       "      <th>1</th>\n",
       "      <td>208222</td>\n",
       "      <td>1</td>\n",
       "      <td>22.0</td>\n",
       "      <td>1.0</td>\n",
       "      <td>21.0</td>\n",
       "      <td>2/2/2018</td>\n",
       "      <td>0</td>\n",
       "      <td>0.031264</td>\n",
       "      <td>152.0</td>\n",
       "      <td>-7.581580e-16</td>\n",
       "      <td>0</td>\n",
       "      <td>2</td>\n",
       "      <td>2</td>\n",
       "      <td>2018</td>\n",
       "    </tr>\n",
       "    <tr>\n",
       "      <th>2</th>\n",
       "      <td>345428</td>\n",
       "      <td>1</td>\n",
       "      <td>24.0</td>\n",
       "      <td>1.0</td>\n",
       "      <td>28.0</td>\n",
       "      <td>5/12/2019</td>\n",
       "      <td>0</td>\n",
       "      <td>0.031264</td>\n",
       "      <td>152.0</td>\n",
       "      <td>3.578627e-01</td>\n",
       "      <td>0</td>\n",
       "      <td>12</td>\n",
       "      <td>5</td>\n",
       "      <td>2019</td>\n",
       "    </tr>\n",
       "    <tr>\n",
       "      <th>3</th>\n",
       "      <td>236831</td>\n",
       "      <td>0</td>\n",
       "      <td>58.0</td>\n",
       "      <td>1.0</td>\n",
       "      <td>46.0</td>\n",
       "      <td>0/0/0</td>\n",
       "      <td>1</td>\n",
       "      <td>0.031264</td>\n",
       "      <td>124.0</td>\n",
       "      <td>-7.581580e-16</td>\n",
       "      <td>0</td>\n",
       "      <td>0</td>\n",
       "      <td>0</td>\n",
       "      <td>0</td>\n",
       "    </tr>\n",
       "    <tr>\n",
       "      <th>4</th>\n",
       "      <td>280181</td>\n",
       "      <td>0</td>\n",
       "      <td>33.0</td>\n",
       "      <td>1.0</td>\n",
       "      <td>36.0</td>\n",
       "      <td>11/19/2019</td>\n",
       "      <td>2</td>\n",
       "      <td>0.031264</td>\n",
       "      <td>152.0</td>\n",
       "      <td>-7.581580e-16</td>\n",
       "      <td>1</td>\n",
       "      <td>19</td>\n",
       "      <td>11</td>\n",
       "      <td>2019</td>\n",
       "    </tr>\n",
       "  </tbody>\n",
       "</table>\n",
       "</div>"
      ],
      "text/plain": [
       "       id  Gender  Umur  Izin_Mengemudi  Kode_Wilayah Tanggal_Asuransi  \\\n",
       "0   58609       0  65.0             1.0          48.0        11/4/2018   \n",
       "1  208222       1  22.0             1.0          21.0         2/2/2018   \n",
       "2  345428       1  24.0             1.0          28.0        5/12/2019   \n",
       "3  236831       0  58.0             1.0          46.0            0/0/0   \n",
       "4  280181       0  33.0             1.0          36.0       11/19/2019   \n",
       "\n",
       "   Tahun_Kendaraan     Biaya  Sourcing_Channel  Hari_Diasuransikan  Target  \\\n",
       "0                1 -1.913262              15.0       -3.090201e-01       0   \n",
       "1                0  0.031264             152.0       -7.581580e-16       0   \n",
       "2                0  0.031264             152.0        3.578627e-01       0   \n",
       "3                1  0.031264             124.0       -7.581580e-16       0   \n",
       "4                2  0.031264             152.0       -7.581580e-16       1   \n",
       "\n",
       "   Tanggal  Bulan  Tahun  \n",
       "0        4     11   2018  \n",
       "1        2      2   2018  \n",
       "2       12      5   2019  \n",
       "3        0      0      0  \n",
       "4       19     11   2019  "
      ]
     },
     "execution_count": 30,
     "metadata": {},
     "output_type": "execute_result"
    }
   ],
   "source": [
    "from sklearn.preprocessing import StandardScaler\n",
    "\n",
    "columns_to_scale = [\n",
    "    'Biaya', 'Hari_Diasuransikan'\n",
    "]\n",
    "data_to_scale = df_train[columns_to_scale]\n",
    "scaler = StandardScaler()\n",
    "scaled_data = scaler.fit_transform(data_to_scale)\n",
    "\n",
    "# Update the original dataset with the scaled values\n",
    "df_train[columns_to_scale] = scaled_data\n",
    "df_train.head()"
   ]
  },
  {
   "cell_type": "markdown",
   "metadata": {},
   "source": [
    "## Testing Set "
   ]
  },
  {
   "cell_type": "code",
   "execution_count": 31,
   "metadata": {},
   "outputs": [],
   "source": [
    "df_test=pd.read_csv('joints_test.csv')"
   ]
  },
  {
   "cell_type": "code",
   "execution_count": 32,
   "metadata": {},
   "outputs": [
    {
     "name": "stdout",
     "output_type": "stream",
     "text": [
      "<class 'pandas.core.frame.DataFrame'>\n",
      "RangeIndex: 78273 entries, 0 to 78272\n",
      "Data columns (total 10 columns):\n",
      " #   Column              Non-Null Count  Dtype  \n",
      "---  ------              --------------  -----  \n",
      " 0   id                  78273 non-null  int64  \n",
      " 1   Gender              70695 non-null  object \n",
      " 2   Umur                62692 non-null  float64\n",
      " 3   Izin_Mengemudi      62560 non-null  float64\n",
      " 4   Kode_Wilayah        58720 non-null  float64\n",
      " 5   Tanggal_Asuransi    67021 non-null  object \n",
      " 6   Tahun_Kendaraan     64722 non-null  object \n",
      " 7   Biaya               57426 non-null  float64\n",
      " 8   Sourcing_Channel    65034 non-null  float64\n",
      " 9   Hari_Diasuransikan  61053 non-null  float64\n",
      "dtypes: float64(6), int64(1), object(3)\n",
      "memory usage: 6.0+ MB\n"
     ]
    }
   ],
   "source": [
    "df_test.info()"
   ]
  },
  {
   "cell_type": "code",
   "execution_count": 33,
   "metadata": {},
   "outputs": [],
   "source": [
    "df_test['Tanggal_Asuransi'] = df_test['Tanggal_Asuransi'].fillna('0/0/0')\n",
    "#tanggal asuransi\n",
    "df_test['Tanggal'] = df_test['Tanggal_Asuransi'].apply(lambda x:x.split('/')[1])\n",
    "df_test['Tanggal']=df_test['Tanggal'].apply(int)\n",
    "\n",
    "#bulan asuransi\n",
    "df_test['Bulan'] = df_test['Tanggal_Asuransi'].apply(lambda x:x.split('/')[0])\n",
    "df_test['Bulan']=df_test['Bulan'].apply(int)\n",
    "\n",
    "#tahun asuransi\n",
    "df_test['Tahun'] = df_test['Tanggal_Asuransi'].apply(lambda x:x.split('/')[2])\n",
    "df_test['Tahun']=df_test['Tahun'].apply(int)"
   ]
  },
  {
   "cell_type": "code",
   "execution_count": 34,
   "metadata": {},
   "outputs": [],
   "source": [
    "df_test['Gender'] = df_test['Gender'].fillna('Pria')\n",
    "df_test['Umur'] = df_test['Umur'].fillna(df_test['Umur'].median())\n",
    "df_test['Izin_Mengemudi'] = df_test['Izin_Mengemudi'].fillna(1.0)\n",
    "df_test['Kode_Wilayah'] = df_test['Kode_Wilayah'].fillna(28.0)\n",
    "\n",
    "df_test['Tahun_Kendaraan'] = df_test['Tahun_Kendaraan'].fillna('1-2 Tahun')\n",
    "df_test['Biaya'] = df_test['Biaya'].fillna(df_test['Biaya'].median())\n",
    "df_test['Sourcing_Channel'] = df_test['Sourcing_Channel'].fillna(152.0)\n",
    "df_test['Hari_Diasuransikan'] = df_test['Hari_Diasuransikan'].fillna(df_train['Hari_Diasuransikan'].mean())\n",
    "\n",
    "df_train[\"Tanggal\"].fillna(method='bfill', inplace=True)\n",
    "df_train[\"Bulan\"].fillna(method='bfill', inplace=True)\n",
    "df_train[\"Tahun\"].fillna(method='bfill', inplace=True)"
   ]
  },
  {
   "cell_type": "code",
   "execution_count": 35,
   "metadata": {},
   "outputs": [
    {
     "data": {
      "text/html": [
       "<div>\n",
       "<style scoped>\n",
       "    .dataframe tbody tr th:only-of-type {\n",
       "        vertical-align: middle;\n",
       "    }\n",
       "\n",
       "    .dataframe tbody tr th {\n",
       "        vertical-align: top;\n",
       "    }\n",
       "\n",
       "    .dataframe thead th {\n",
       "        text-align: right;\n",
       "    }\n",
       "</style>\n",
       "<table border=\"1\" class=\"dataframe\">\n",
       "  <thead>\n",
       "    <tr style=\"text-align: right;\">\n",
       "      <th></th>\n",
       "      <th>id</th>\n",
       "      <th>Gender</th>\n",
       "      <th>Umur</th>\n",
       "      <th>Izin_Mengemudi</th>\n",
       "      <th>Kode_Wilayah</th>\n",
       "      <th>Tanggal_Asuransi</th>\n",
       "      <th>Tahun_Kendaraan</th>\n",
       "      <th>Biaya</th>\n",
       "      <th>Sourcing_Channel</th>\n",
       "      <th>Hari_Diasuransikan</th>\n",
       "      <th>Tanggal</th>\n",
       "      <th>Bulan</th>\n",
       "      <th>Tahun</th>\n",
       "    </tr>\n",
       "  </thead>\n",
       "  <tbody>\n",
       "    <tr>\n",
       "      <th>0</th>\n",
       "      <td>273737</td>\n",
       "      <td>0</td>\n",
       "      <td>40.0</td>\n",
       "      <td>1.0</td>\n",
       "      <td>11.0</td>\n",
       "      <td>0/0/0</td>\n",
       "      <td>1-2 Tahun</td>\n",
       "      <td>32412.5</td>\n",
       "      <td>152.0</td>\n",
       "      <td>193.0</td>\n",
       "      <td>0</td>\n",
       "      <td>0</td>\n",
       "      <td>0</td>\n",
       "    </tr>\n",
       "    <tr>\n",
       "      <th>1</th>\n",
       "      <td>49175</td>\n",
       "      <td>0</td>\n",
       "      <td>25.0</td>\n",
       "      <td>1.0</td>\n",
       "      <td>30.0</td>\n",
       "      <td>4/14/2018</td>\n",
       "      <td>&lt;1 Tahun</td>\n",
       "      <td>32412.5</td>\n",
       "      <td>152.0</td>\n",
       "      <td>153.0</td>\n",
       "      <td>14</td>\n",
       "      <td>4</td>\n",
       "      <td>2018</td>\n",
       "    </tr>\n",
       "    <tr>\n",
       "      <th>2</th>\n",
       "      <td>353494</td>\n",
       "      <td>1</td>\n",
       "      <td>50.0</td>\n",
       "      <td>1.0</td>\n",
       "      <td>19.0</td>\n",
       "      <td>12/25/2019</td>\n",
       "      <td>1-2 Tahun</td>\n",
       "      <td>31641.0</td>\n",
       "      <td>124.0</td>\n",
       "      <td>278.0</td>\n",
       "      <td>25</td>\n",
       "      <td>12</td>\n",
       "      <td>2019</td>\n",
       "    </tr>\n",
       "    <tr>\n",
       "      <th>3</th>\n",
       "      <td>182676</td>\n",
       "      <td>1</td>\n",
       "      <td>59.0</td>\n",
       "      <td>1.0</td>\n",
       "      <td>28.0</td>\n",
       "      <td>5/4/2018</td>\n",
       "      <td>1-2 Tahun</td>\n",
       "      <td>2630.0</td>\n",
       "      <td>26.0</td>\n",
       "      <td>202.0</td>\n",
       "      <td>4</td>\n",
       "      <td>5</td>\n",
       "      <td>2018</td>\n",
       "    </tr>\n",
       "    <tr>\n",
       "      <th>4</th>\n",
       "      <td>498206</td>\n",
       "      <td>1</td>\n",
       "      <td>57.0</td>\n",
       "      <td>1.0</td>\n",
       "      <td>28.0</td>\n",
       "      <td>4/17/2019</td>\n",
       "      <td>1-2 Tahun</td>\n",
       "      <td>26357.0</td>\n",
       "      <td>122.0</td>\n",
       "      <td>142.0</td>\n",
       "      <td>17</td>\n",
       "      <td>4</td>\n",
       "      <td>2019</td>\n",
       "    </tr>\n",
       "  </tbody>\n",
       "</table>\n",
       "</div>"
      ],
      "text/plain": [
       "       id  Gender  Umur  Izin_Mengemudi  Kode_Wilayah Tanggal_Asuransi  \\\n",
       "0  273737       0  40.0             1.0          11.0            0/0/0   \n",
       "1   49175       0  25.0             1.0          30.0        4/14/2018   \n",
       "2  353494       1  50.0             1.0          19.0       12/25/2019   \n",
       "3  182676       1  59.0             1.0          28.0         5/4/2018   \n",
       "4  498206       1  57.0             1.0          28.0        4/17/2019   \n",
       "\n",
       "  Tahun_Kendaraan    Biaya  Sourcing_Channel  Hari_Diasuransikan  Tanggal  \\\n",
       "0       1-2 Tahun  32412.5             152.0               193.0        0   \n",
       "1        <1 Tahun  32412.5             152.0               153.0       14   \n",
       "2       1-2 Tahun  31641.0             124.0               278.0       25   \n",
       "3       1-2 Tahun   2630.0              26.0               202.0        4   \n",
       "4       1-2 Tahun  26357.0             122.0               142.0       17   \n",
       "\n",
       "   Bulan  Tahun  \n",
       "0      0      0  \n",
       "1      4   2018  \n",
       "2     12   2019  \n",
       "3      5   2018  \n",
       "4      4   2019  "
      ]
     },
     "execution_count": 35,
     "metadata": {},
     "output_type": "execute_result"
    }
   ],
   "source": [
    "from sklearn.preprocessing import OrdinalEncoder\n",
    "\n",
    "ordinal_encoder = OrdinalEncoder(categories=[['Pria','Wanita']])\n",
    "df_test['Gender'] = ordinal_encoder.fit_transform(df_test[['Gender']])\n",
    "df_test['Gender'] = df_test['Gender'].astype(int)\n",
    "df_test.head()"
   ]
  },
  {
   "cell_type": "code",
   "execution_count": 36,
   "metadata": {},
   "outputs": [
    {
     "data": {
      "text/html": [
       "<div>\n",
       "<style scoped>\n",
       "    .dataframe tbody tr th:only-of-type {\n",
       "        vertical-align: middle;\n",
       "    }\n",
       "\n",
       "    .dataframe tbody tr th {\n",
       "        vertical-align: top;\n",
       "    }\n",
       "\n",
       "    .dataframe thead th {\n",
       "        text-align: right;\n",
       "    }\n",
       "</style>\n",
       "<table border=\"1\" class=\"dataframe\">\n",
       "  <thead>\n",
       "    <tr style=\"text-align: right;\">\n",
       "      <th></th>\n",
       "      <th>id</th>\n",
       "      <th>Gender</th>\n",
       "      <th>Umur</th>\n",
       "      <th>Izin_Mengemudi</th>\n",
       "      <th>Kode_Wilayah</th>\n",
       "      <th>Tanggal_Asuransi</th>\n",
       "      <th>Tahun_Kendaraan</th>\n",
       "      <th>Biaya</th>\n",
       "      <th>Sourcing_Channel</th>\n",
       "      <th>Hari_Diasuransikan</th>\n",
       "      <th>Tanggal</th>\n",
       "      <th>Bulan</th>\n",
       "      <th>Tahun</th>\n",
       "    </tr>\n",
       "  </thead>\n",
       "  <tbody>\n",
       "    <tr>\n",
       "      <th>0</th>\n",
       "      <td>273737</td>\n",
       "      <td>0</td>\n",
       "      <td>40.0</td>\n",
       "      <td>1.0</td>\n",
       "      <td>11.0</td>\n",
       "      <td>0/0/0</td>\n",
       "      <td>1</td>\n",
       "      <td>32412.5</td>\n",
       "      <td>152.0</td>\n",
       "      <td>193.0</td>\n",
       "      <td>0</td>\n",
       "      <td>0</td>\n",
       "      <td>0</td>\n",
       "    </tr>\n",
       "    <tr>\n",
       "      <th>1</th>\n",
       "      <td>49175</td>\n",
       "      <td>0</td>\n",
       "      <td>25.0</td>\n",
       "      <td>1.0</td>\n",
       "      <td>30.0</td>\n",
       "      <td>4/14/2018</td>\n",
       "      <td>0</td>\n",
       "      <td>32412.5</td>\n",
       "      <td>152.0</td>\n",
       "      <td>153.0</td>\n",
       "      <td>14</td>\n",
       "      <td>4</td>\n",
       "      <td>2018</td>\n",
       "    </tr>\n",
       "    <tr>\n",
       "      <th>2</th>\n",
       "      <td>353494</td>\n",
       "      <td>1</td>\n",
       "      <td>50.0</td>\n",
       "      <td>1.0</td>\n",
       "      <td>19.0</td>\n",
       "      <td>12/25/2019</td>\n",
       "      <td>1</td>\n",
       "      <td>31641.0</td>\n",
       "      <td>124.0</td>\n",
       "      <td>278.0</td>\n",
       "      <td>25</td>\n",
       "      <td>12</td>\n",
       "      <td>2019</td>\n",
       "    </tr>\n",
       "    <tr>\n",
       "      <th>3</th>\n",
       "      <td>182676</td>\n",
       "      <td>1</td>\n",
       "      <td>59.0</td>\n",
       "      <td>1.0</td>\n",
       "      <td>28.0</td>\n",
       "      <td>5/4/2018</td>\n",
       "      <td>1</td>\n",
       "      <td>2630.0</td>\n",
       "      <td>26.0</td>\n",
       "      <td>202.0</td>\n",
       "      <td>4</td>\n",
       "      <td>5</td>\n",
       "      <td>2018</td>\n",
       "    </tr>\n",
       "    <tr>\n",
       "      <th>4</th>\n",
       "      <td>498206</td>\n",
       "      <td>1</td>\n",
       "      <td>57.0</td>\n",
       "      <td>1.0</td>\n",
       "      <td>28.0</td>\n",
       "      <td>4/17/2019</td>\n",
       "      <td>1</td>\n",
       "      <td>26357.0</td>\n",
       "      <td>122.0</td>\n",
       "      <td>142.0</td>\n",
       "      <td>17</td>\n",
       "      <td>4</td>\n",
       "      <td>2019</td>\n",
       "    </tr>\n",
       "  </tbody>\n",
       "</table>\n",
       "</div>"
      ],
      "text/plain": [
       "       id  Gender  Umur  Izin_Mengemudi  Kode_Wilayah Tanggal_Asuransi  \\\n",
       "0  273737       0  40.0             1.0          11.0            0/0/0   \n",
       "1   49175       0  25.0             1.0          30.0        4/14/2018   \n",
       "2  353494       1  50.0             1.0          19.0       12/25/2019   \n",
       "3  182676       1  59.0             1.0          28.0         5/4/2018   \n",
       "4  498206       1  57.0             1.0          28.0        4/17/2019   \n",
       "\n",
       "   Tahun_Kendaraan    Biaya  Sourcing_Channel  Hari_Diasuransikan  Tanggal  \\\n",
       "0                1  32412.5             152.0               193.0        0   \n",
       "1                0  32412.5             152.0               153.0       14   \n",
       "2                1  31641.0             124.0               278.0       25   \n",
       "3                1   2630.0              26.0               202.0        4   \n",
       "4                1  26357.0             122.0               142.0       17   \n",
       "\n",
       "   Bulan  Tahun  \n",
       "0      0      0  \n",
       "1      4   2018  \n",
       "2     12   2019  \n",
       "3      5   2018  \n",
       "4      4   2019  "
      ]
     },
     "execution_count": 36,
     "metadata": {},
     "output_type": "execute_result"
    }
   ],
   "source": [
    "from sklearn.preprocessing import OrdinalEncoder\n",
    "\n",
    "ordinal_encoder = OrdinalEncoder(categories=[['<1 Tahun', '1-2 Tahun', '>2 Tahun']])\n",
    "df_test['Tahun_Kendaraan'] = ordinal_encoder.fit_transform(df_test[['Tahun_Kendaraan']])\n",
    "df_test['Tahun_Kendaraan'] = df_test['Tahun_Kendaraan'].astype(int)\n",
    "df_test.head()"
   ]
  },
  {
   "cell_type": "code",
   "execution_count": 37,
   "metadata": {},
   "outputs": [
    {
     "data": {
      "text/html": [
       "<div>\n",
       "<style scoped>\n",
       "    .dataframe tbody tr th:only-of-type {\n",
       "        vertical-align: middle;\n",
       "    }\n",
       "\n",
       "    .dataframe tbody tr th {\n",
       "        vertical-align: top;\n",
       "    }\n",
       "\n",
       "    .dataframe thead th {\n",
       "        text-align: right;\n",
       "    }\n",
       "</style>\n",
       "<table border=\"1\" class=\"dataframe\">\n",
       "  <thead>\n",
       "    <tr style=\"text-align: right;\">\n",
       "      <th></th>\n",
       "      <th>id</th>\n",
       "      <th>Gender</th>\n",
       "      <th>Umur</th>\n",
       "      <th>Izin_Mengemudi</th>\n",
       "      <th>Kode_Wilayah</th>\n",
       "      <th>Tanggal_Asuransi</th>\n",
       "      <th>Tahun_Kendaraan</th>\n",
       "      <th>Biaya</th>\n",
       "      <th>Sourcing_Channel</th>\n",
       "      <th>Hari_Diasuransikan</th>\n",
       "      <th>Tanggal</th>\n",
       "      <th>Bulan</th>\n",
       "      <th>Tahun</th>\n",
       "    </tr>\n",
       "  </thead>\n",
       "  <tbody>\n",
       "    <tr>\n",
       "      <th>0</th>\n",
       "      <td>273737</td>\n",
       "      <td>0</td>\n",
       "      <td>40.0</td>\n",
       "      <td>1.0</td>\n",
       "      <td>11.0</td>\n",
       "      <td>0/0/0</td>\n",
       "      <td>1</td>\n",
       "      <td>0.024657</td>\n",
       "      <td>152.0</td>\n",
       "      <td>0.739286</td>\n",
       "      <td>0</td>\n",
       "      <td>0</td>\n",
       "      <td>0</td>\n",
       "    </tr>\n",
       "    <tr>\n",
       "      <th>1</th>\n",
       "      <td>49175</td>\n",
       "      <td>0</td>\n",
       "      <td>25.0</td>\n",
       "      <td>1.0</td>\n",
       "      <td>30.0</td>\n",
       "      <td>4/14/2018</td>\n",
       "      <td>0</td>\n",
       "      <td>0.024657</td>\n",
       "      <td>152.0</td>\n",
       "      <td>0.329915</td>\n",
       "      <td>14</td>\n",
       "      <td>4</td>\n",
       "      <td>2018</td>\n",
       "    </tr>\n",
       "    <tr>\n",
       "      <th>2</th>\n",
       "      <td>353494</td>\n",
       "      <td>1</td>\n",
       "      <td>50.0</td>\n",
       "      <td>1.0</td>\n",
       "      <td>19.0</td>\n",
       "      <td>12/25/2019</td>\n",
       "      <td>1</td>\n",
       "      <td>-0.024868</td>\n",
       "      <td>124.0</td>\n",
       "      <td>1.609199</td>\n",
       "      <td>25</td>\n",
       "      <td>12</td>\n",
       "      <td>2019</td>\n",
       "    </tr>\n",
       "    <tr>\n",
       "      <th>3</th>\n",
       "      <td>182676</td>\n",
       "      <td>1</td>\n",
       "      <td>59.0</td>\n",
       "      <td>1.0</td>\n",
       "      <td>28.0</td>\n",
       "      <td>5/4/2018</td>\n",
       "      <td>1</td>\n",
       "      <td>-1.887185</td>\n",
       "      <td>26.0</td>\n",
       "      <td>0.831395</td>\n",
       "      <td>4</td>\n",
       "      <td>5</td>\n",
       "      <td>2018</td>\n",
       "    </tr>\n",
       "    <tr>\n",
       "      <th>4</th>\n",
       "      <td>498206</td>\n",
       "      <td>1</td>\n",
       "      <td>57.0</td>\n",
       "      <td>1.0</td>\n",
       "      <td>28.0</td>\n",
       "      <td>4/17/2019</td>\n",
       "      <td>1</td>\n",
       "      <td>-0.364067</td>\n",
       "      <td>122.0</td>\n",
       "      <td>0.217338</td>\n",
       "      <td>17</td>\n",
       "      <td>4</td>\n",
       "      <td>2019</td>\n",
       "    </tr>\n",
       "  </tbody>\n",
       "</table>\n",
       "</div>"
      ],
      "text/plain": [
       "       id  Gender  Umur  Izin_Mengemudi  Kode_Wilayah Tanggal_Asuransi  \\\n",
       "0  273737       0  40.0             1.0          11.0            0/0/0   \n",
       "1   49175       0  25.0             1.0          30.0        4/14/2018   \n",
       "2  353494       1  50.0             1.0          19.0       12/25/2019   \n",
       "3  182676       1  59.0             1.0          28.0         5/4/2018   \n",
       "4  498206       1  57.0             1.0          28.0        4/17/2019   \n",
       "\n",
       "   Tahun_Kendaraan     Biaya  Sourcing_Channel  Hari_Diasuransikan  Tanggal  \\\n",
       "0                1  0.024657             152.0            0.739286        0   \n",
       "1                0  0.024657             152.0            0.329915       14   \n",
       "2                1 -0.024868             124.0            1.609199       25   \n",
       "3                1 -1.887185              26.0            0.831395        4   \n",
       "4                1 -0.364067             122.0            0.217338       17   \n",
       "\n",
       "   Bulan  Tahun  \n",
       "0      0      0  \n",
       "1      4   2018  \n",
       "2     12   2019  \n",
       "3      5   2018  \n",
       "4      4   2019  "
      ]
     },
     "execution_count": 37,
     "metadata": {},
     "output_type": "execute_result"
    }
   ],
   "source": [
    "from sklearn.preprocessing import StandardScaler\n",
    "\n",
    "columns_to_scale = [\n",
    "    'Biaya', 'Hari_Diasuransikan'\n",
    "]\n",
    "data_to_scale = df_test[columns_to_scale]\n",
    "scaler = StandardScaler()\n",
    "scaled_data = scaler.fit_transform(data_to_scale)\n",
    "\n",
    "# Update the original dataset with the scaled values\n",
    "df_test[columns_to_scale] = scaled_data\n",
    "df_test.head()"
   ]
  },
  {
   "cell_type": "markdown",
   "metadata": {},
   "source": [
    "## Model Training"
   ]
  },
  {
   "cell_type": "code",
   "execution_count": 38,
   "metadata": {},
   "outputs": [],
   "source": [
    "#variable independen\n",
    "X = df_train.drop(['Target','Tanggal_Asuransi', 'Sourcing_Channel', 'Izin_Mengemudi'], axis=1)\n",
    "#variable dependen\n",
    "y = df_train['Target']"
   ]
  },
  {
   "cell_type": "code",
   "execution_count": 39,
   "metadata": {},
   "outputs": [],
   "source": [
    "df_train.sort_values(by=[\"id\"], inplace=True)"
   ]
  },
  {
   "cell_type": "code",
   "execution_count": 40,
   "metadata": {},
   "outputs": [
    {
     "name": "stdout",
     "output_type": "stream",
     "text": [
      "(305723, 10)\n",
      "(76431, 10)\n",
      "(305723,)\n",
      "(76431,)\n"
     ]
    }
   ],
   "source": [
    "from sklearn.model_selection import train_test_split\n",
    "\n",
    "X_train, X_test, y_train, y_test = train_test_split(X, y, test_size = 0.2, random_state=42)\n",
    "print(X_train.shape)\n",
    "print(X_test.shape)\n",
    "print(y_train.shape)\n",
    "print(y_test.shape)"
   ]
  },
  {
   "cell_type": "markdown",
   "metadata": {},
   "source": [
    "### KNN "
   ]
  },
  {
   "cell_type": "code",
   "execution_count": 41,
   "metadata": {},
   "outputs": [],
   "source": [
    "from sklearn.neighbors import KNeighborsClassifier\n",
    "\n",
    "model_KNN = KNeighborsClassifier(n_neighbors = 3)\n",
    "model_KNN.fit(X_train, y_train)\n",
    "y_pred_KNN = model_KNN.predict(X_test)"
   ]
  },
  {
   "cell_type": "code",
   "execution_count": 42,
   "metadata": {},
   "outputs": [
    {
     "name": "stdout",
     "output_type": "stream",
     "text": [
      "0.8264055160864048\n"
     ]
    }
   ],
   "source": [
    "from sklearn.metrics import accuracy_score\n",
    "print(accuracy_score(y_test,y_pred_KNN))"
   ]
  },
  {
   "cell_type": "markdown",
   "metadata": {},
   "source": [
    "### Naive Bayes "
   ]
  },
  {
   "cell_type": "code",
   "execution_count": 43,
   "metadata": {},
   "outputs": [],
   "source": [
    "from sklearn.naive_bayes import GaussianNB\n",
    "model_GNB = GaussianNB()\n",
    "model_GNB.fit(X_train, y_train)\n",
    "y_pred_GNB = model_GNB.predict(X_test)"
   ]
  },
  {
   "cell_type": "code",
   "execution_count": 44,
   "metadata": {},
   "outputs": [
    {
     "name": "stdout",
     "output_type": "stream",
     "text": [
      "0.8171422590310214\n"
     ]
    }
   ],
   "source": [
    "from sklearn.metrics import accuracy_score\n",
    "print(accuracy_score(y_test,y_pred_GNB))"
   ]
  },
  {
   "cell_type": "markdown",
   "metadata": {},
   "source": [
    "### Decision Tree "
   ]
  },
  {
   "cell_type": "code",
   "execution_count": 45,
   "metadata": {},
   "outputs": [],
   "source": [
    "from sklearn.tree import DecisionTreeClassifier\n",
    "model_DT = DecisionTreeClassifier()\n",
    "model_DT.fit(X_train, y_train)\n",
    "y_pred_DT = model_DT.predict(X_test)"
   ]
  },
  {
   "cell_type": "code",
   "execution_count": 46,
   "metadata": {},
   "outputs": [
    {
     "name": "stdout",
     "output_type": "stream",
     "text": [
      "0.8452329552145073\n"
     ]
    }
   ],
   "source": [
    "from sklearn.metrics import accuracy_score\n",
    "print(accuracy_score(y_test,y_pred_DT))"
   ]
  },
  {
   "cell_type": "markdown",
   "metadata": {},
   "source": [
    "### Logistic Regression "
   ]
  },
  {
   "cell_type": "code",
   "execution_count": 47,
   "metadata": {},
   "outputs": [],
   "source": [
    "from sklearn.linear_model import LogisticRegression\n",
    "model_LR = LogisticRegression()\n",
    "model_LR.fit(X_train, y_train)\n",
    "y_pred_LR = model_LR.predict(X_test)"
   ]
  },
  {
   "cell_type": "code",
   "execution_count": 48,
   "metadata": {},
   "outputs": [
    {
     "name": "stdout",
     "output_type": "stream",
     "text": [
      "0.8436367442529864\n"
     ]
    }
   ],
   "source": [
    "from sklearn.metrics import accuracy_score\n",
    "print(accuracy_score(y_test,y_pred_LR))"
   ]
  },
  {
   "cell_type": "markdown",
   "metadata": {},
   "source": [
    "### XGBoost "
   ]
  },
  {
   "cell_type": "code",
   "execution_count": 49,
   "metadata": {},
   "outputs": [],
   "source": [
    "from xgboost import XGBClassifier\n",
    "model_XGB = XGBClassifier()\n",
    "model_XGB.fit(X_train,y_train)\n",
    "y_pred_XGB = model_XGB.predict(X_test)"
   ]
  },
  {
   "cell_type": "code",
   "execution_count": 50,
   "metadata": {},
   "outputs": [
    {
     "name": "stdout",
     "output_type": "stream",
     "text": [
      "0.8975677408381416\n"
     ]
    }
   ],
   "source": [
    "from sklearn.metrics import accuracy_score\n",
    "print(accuracy_score(y_test,y_pred_XGB))"
   ]
  },
  {
   "cell_type": "code",
   "execution_count": 51,
   "metadata": {},
   "outputs": [
    {
     "data": {
      "text/html": [
       "<div>\n",
       "<style scoped>\n",
       "    .dataframe tbody tr th:only-of-type {\n",
       "        vertical-align: middle;\n",
       "    }\n",
       "\n",
       "    .dataframe tbody tr th {\n",
       "        vertical-align: top;\n",
       "    }\n",
       "\n",
       "    .dataframe thead th {\n",
       "        text-align: right;\n",
       "    }\n",
       "</style>\n",
       "<table border=\"1\" class=\"dataframe\">\n",
       "  <thead>\n",
       "    <tr style=\"text-align: right;\">\n",
       "      <th></th>\n",
       "      <th>Model</th>\n",
       "      <th>Score</th>\n",
       "    </tr>\n",
       "  </thead>\n",
       "  <tbody>\n",
       "    <tr>\n",
       "      <th>4</th>\n",
       "      <td>XGBoost</td>\n",
       "      <td>0.897568</td>\n",
       "    </tr>\n",
       "    <tr>\n",
       "      <th>2</th>\n",
       "      <td>Decision Tree</td>\n",
       "      <td>0.845233</td>\n",
       "    </tr>\n",
       "    <tr>\n",
       "      <th>3</th>\n",
       "      <td>Linear Regression</td>\n",
       "      <td>0.843637</td>\n",
       "    </tr>\n",
       "    <tr>\n",
       "      <th>0</th>\n",
       "      <td>KNN</td>\n",
       "      <td>0.826406</td>\n",
       "    </tr>\n",
       "    <tr>\n",
       "      <th>1</th>\n",
       "      <td>Naive Bayes</td>\n",
       "      <td>0.817142</td>\n",
       "    </tr>\n",
       "  </tbody>\n",
       "</table>\n",
       "</div>"
      ],
      "text/plain": [
       "               Model     Score\n",
       "4            XGBoost  0.897568\n",
       "2      Decision Tree  0.845233\n",
       "3  Linear Regression  0.843637\n",
       "0                KNN  0.826406\n",
       "1        Naive Bayes  0.817142"
      ]
     },
     "execution_count": 51,
     "metadata": {},
     "output_type": "execute_result"
    }
   ],
   "source": [
    "acc_KNN = accuracy_score(y_test,y_pred_KNN)\n",
    "acc_GNB = accuracy_score(y_test,y_pred_GNB)\n",
    "acc_DT = accuracy_score(y_test,y_pred_DT)\n",
    "acc_LR = accuracy_score(y_test,y_pred_LR)\n",
    "acc_XGB = accuracy_score(y_test,y_pred_XGB)\n",
    "\n",
    "models = pd.DataFrame(\n",
    "    {\n",
    "        'Model': ['KNN', 'Naive Bayes', 'Decision Tree', 'Linear Regression', 'XGBoost'],\n",
    "        'Score': [acc_KNN, acc_GNB, acc_DT, acc_LR, acc_XGB]\n",
    "    }\n",
    ")\n",
    "models.sort_values(by='Score', ascending=False)"
   ]
  },
  {
   "cell_type": "markdown",
   "metadata": {},
   "source": [
    "## Fine Tuning The Best Model "
   ]
  },
  {
   "cell_type": "code",
   "execution_count": 52,
   "metadata": {},
   "outputs": [
    {
     "data": {
      "text/html": [
       "<style>#sk-container-id-1 {color: black;}#sk-container-id-1 pre{padding: 0;}#sk-container-id-1 div.sk-toggleable {background-color: white;}#sk-container-id-1 label.sk-toggleable__label {cursor: pointer;display: block;width: 100%;margin-bottom: 0;padding: 0.3em;box-sizing: border-box;text-align: center;}#sk-container-id-1 label.sk-toggleable__label-arrow:before {content: \"▸\";float: left;margin-right: 0.25em;color: #696969;}#sk-container-id-1 label.sk-toggleable__label-arrow:hover:before {color: black;}#sk-container-id-1 div.sk-estimator:hover label.sk-toggleable__label-arrow:before {color: black;}#sk-container-id-1 div.sk-toggleable__content {max-height: 0;max-width: 0;overflow: hidden;text-align: left;background-color: #f0f8ff;}#sk-container-id-1 div.sk-toggleable__content pre {margin: 0.2em;color: black;border-radius: 0.25em;background-color: #f0f8ff;}#sk-container-id-1 input.sk-toggleable__control:checked~div.sk-toggleable__content {max-height: 200px;max-width: 100%;overflow: auto;}#sk-container-id-1 input.sk-toggleable__control:checked~label.sk-toggleable__label-arrow:before {content: \"▾\";}#sk-container-id-1 div.sk-estimator input.sk-toggleable__control:checked~label.sk-toggleable__label {background-color: #d4ebff;}#sk-container-id-1 div.sk-label input.sk-toggleable__control:checked~label.sk-toggleable__label {background-color: #d4ebff;}#sk-container-id-1 input.sk-hidden--visually {border: 0;clip: rect(1px 1px 1px 1px);clip: rect(1px, 1px, 1px, 1px);height: 1px;margin: -1px;overflow: hidden;padding: 0;position: absolute;width: 1px;}#sk-container-id-1 div.sk-estimator {font-family: monospace;background-color: #f0f8ff;border: 1px dotted black;border-radius: 0.25em;box-sizing: border-box;margin-bottom: 0.5em;}#sk-container-id-1 div.sk-estimator:hover {background-color: #d4ebff;}#sk-container-id-1 div.sk-parallel-item::after {content: \"\";width: 100%;border-bottom: 1px solid gray;flex-grow: 1;}#sk-container-id-1 div.sk-label:hover label.sk-toggleable__label {background-color: #d4ebff;}#sk-container-id-1 div.sk-serial::before {content: \"\";position: absolute;border-left: 1px solid gray;box-sizing: border-box;top: 0;bottom: 0;left: 50%;z-index: 0;}#sk-container-id-1 div.sk-serial {display: flex;flex-direction: column;align-items: center;background-color: white;padding-right: 0.2em;padding-left: 0.2em;position: relative;}#sk-container-id-1 div.sk-item {position: relative;z-index: 1;}#sk-container-id-1 div.sk-parallel {display: flex;align-items: stretch;justify-content: center;background-color: white;position: relative;}#sk-container-id-1 div.sk-item::before, #sk-container-id-1 div.sk-parallel-item::before {content: \"\";position: absolute;border-left: 1px solid gray;box-sizing: border-box;top: 0;bottom: 0;left: 50%;z-index: -1;}#sk-container-id-1 div.sk-parallel-item {display: flex;flex-direction: column;z-index: 1;position: relative;background-color: white;}#sk-container-id-1 div.sk-parallel-item:first-child::after {align-self: flex-end;width: 50%;}#sk-container-id-1 div.sk-parallel-item:last-child::after {align-self: flex-start;width: 50%;}#sk-container-id-1 div.sk-parallel-item:only-child::after {width: 0;}#sk-container-id-1 div.sk-dashed-wrapped {border: 1px dashed gray;margin: 0 0.4em 0.5em 0.4em;box-sizing: border-box;padding-bottom: 0.4em;background-color: white;}#sk-container-id-1 div.sk-label label {font-family: monospace;font-weight: bold;display: inline-block;line-height: 1.2em;}#sk-container-id-1 div.sk-label-container {text-align: center;}#sk-container-id-1 div.sk-container {/* jupyter's `normalize.less` sets `[hidden] { display: none; }` but bootstrap.min.css set `[hidden] { display: none !important; }` so we also need the `!important` here to be able to override the default hidden behavior on the sphinx rendered scikit-learn.org. See: https://github.com/scikit-learn/scikit-learn/issues/21755 */display: inline-block !important;position: relative;}#sk-container-id-1 div.sk-text-repr-fallback {display: none;}</style><div id=\"sk-container-id-1\" class=\"sk-top-container\"><div class=\"sk-text-repr-fallback\"><pre>RandomizedSearchCV(cv=5,\n",
       "                   estimator=XGBClassifier(base_score=None, booster=None,\n",
       "                                           callbacks=None,\n",
       "                                           colsample_bylevel=None,\n",
       "                                           colsample_bynode=None,\n",
       "                                           colsample_bytree=None, device=None,\n",
       "                                           early_stopping_rounds=None,\n",
       "                                           enable_categorical=False,\n",
       "                                           eval_metric=None, feature_types=None,\n",
       "                                           gamma=None, grow_policy=None,\n",
       "                                           importance_type=None,\n",
       "                                           interaction_constraints=None,\n",
       "                                           learning_rate...\n",
       "                                           max_delta_step=None, max_depth=None,\n",
       "                                           max_leaves=None,\n",
       "                                           min_child_weight=None, missing=nan,\n",
       "                                           monotone_constraints=None,\n",
       "                                           multi_strategy=None,\n",
       "                                           n_estimators=None, n_jobs=None,\n",
       "                                           num_parallel_tree=None,\n",
       "                                           random_state=None, ...),\n",
       "                   param_distributions={&#x27;learning_rate&#x27;: [0.01, 0.1, 0.2],\n",
       "                                        &#x27;max_depth&#x27;: [3, 5, 7],\n",
       "                                        &#x27;min_child_weight&#x27;: [1, 3, 5],\n",
       "                                        &#x27;n_estimators&#x27;: [100, 200, 300]},\n",
       "                   scoring=&#x27;accuracy&#x27;)</pre><b>In a Jupyter environment, please rerun this cell to show the HTML representation or trust the notebook. <br />On GitHub, the HTML representation is unable to render, please try loading this page with nbviewer.org.</b></div><div class=\"sk-container\" hidden><div class=\"sk-item sk-dashed-wrapped\"><div class=\"sk-label-container\"><div class=\"sk-label sk-toggleable\"><input class=\"sk-toggleable__control sk-hidden--visually\" id=\"sk-estimator-id-1\" type=\"checkbox\" ><label for=\"sk-estimator-id-1\" class=\"sk-toggleable__label sk-toggleable__label-arrow\">RandomizedSearchCV</label><div class=\"sk-toggleable__content\"><pre>RandomizedSearchCV(cv=5,\n",
       "                   estimator=XGBClassifier(base_score=None, booster=None,\n",
       "                                           callbacks=None,\n",
       "                                           colsample_bylevel=None,\n",
       "                                           colsample_bynode=None,\n",
       "                                           colsample_bytree=None, device=None,\n",
       "                                           early_stopping_rounds=None,\n",
       "                                           enable_categorical=False,\n",
       "                                           eval_metric=None, feature_types=None,\n",
       "                                           gamma=None, grow_policy=None,\n",
       "                                           importance_type=None,\n",
       "                                           interaction_constraints=None,\n",
       "                                           learning_rate...\n",
       "                                           max_delta_step=None, max_depth=None,\n",
       "                                           max_leaves=None,\n",
       "                                           min_child_weight=None, missing=nan,\n",
       "                                           monotone_constraints=None,\n",
       "                                           multi_strategy=None,\n",
       "                                           n_estimators=None, n_jobs=None,\n",
       "                                           num_parallel_tree=None,\n",
       "                                           random_state=None, ...),\n",
       "                   param_distributions={&#x27;learning_rate&#x27;: [0.01, 0.1, 0.2],\n",
       "                                        &#x27;max_depth&#x27;: [3, 5, 7],\n",
       "                                        &#x27;min_child_weight&#x27;: [1, 3, 5],\n",
       "                                        &#x27;n_estimators&#x27;: [100, 200, 300]},\n",
       "                   scoring=&#x27;accuracy&#x27;)</pre></div></div></div><div class=\"sk-parallel\"><div class=\"sk-parallel-item\"><div class=\"sk-item\"><div class=\"sk-label-container\"><div class=\"sk-label sk-toggleable\"><input class=\"sk-toggleable__control sk-hidden--visually\" id=\"sk-estimator-id-2\" type=\"checkbox\" ><label for=\"sk-estimator-id-2\" class=\"sk-toggleable__label sk-toggleable__label-arrow\">estimator: XGBClassifier</label><div class=\"sk-toggleable__content\"><pre>XGBClassifier(base_score=None, booster=None, callbacks=None,\n",
       "              colsample_bylevel=None, colsample_bynode=None,\n",
       "              colsample_bytree=None, device=None, early_stopping_rounds=None,\n",
       "              enable_categorical=False, eval_metric=None, feature_types=None,\n",
       "              gamma=None, grow_policy=None, importance_type=None,\n",
       "              interaction_constraints=None, learning_rate=None, max_bin=None,\n",
       "              max_cat_threshold=None, max_cat_to_onehot=None,\n",
       "              max_delta_step=None, max_depth=None, max_leaves=None,\n",
       "              min_child_weight=None, missing=nan, monotone_constraints=None,\n",
       "              multi_strategy=None, n_estimators=None, n_jobs=None,\n",
       "              num_parallel_tree=None, random_state=None, ...)</pre></div></div></div><div class=\"sk-serial\"><div class=\"sk-item\"><div class=\"sk-estimator sk-toggleable\"><input class=\"sk-toggleable__control sk-hidden--visually\" id=\"sk-estimator-id-3\" type=\"checkbox\" ><label for=\"sk-estimator-id-3\" class=\"sk-toggleable__label sk-toggleable__label-arrow\">XGBClassifier</label><div class=\"sk-toggleable__content\"><pre>XGBClassifier(base_score=None, booster=None, callbacks=None,\n",
       "              colsample_bylevel=None, colsample_bynode=None,\n",
       "              colsample_bytree=None, device=None, early_stopping_rounds=None,\n",
       "              enable_categorical=False, eval_metric=None, feature_types=None,\n",
       "              gamma=None, grow_policy=None, importance_type=None,\n",
       "              interaction_constraints=None, learning_rate=None, max_bin=None,\n",
       "              max_cat_threshold=None, max_cat_to_onehot=None,\n",
       "              max_delta_step=None, max_depth=None, max_leaves=None,\n",
       "              min_child_weight=None, missing=nan, monotone_constraints=None,\n",
       "              multi_strategy=None, n_estimators=None, n_jobs=None,\n",
       "              num_parallel_tree=None, random_state=None, ...)</pre></div></div></div></div></div></div></div></div></div></div>"
      ],
      "text/plain": [
       "RandomizedSearchCV(cv=5,\n",
       "                   estimator=XGBClassifier(base_score=None, booster=None,\n",
       "                                           callbacks=None,\n",
       "                                           colsample_bylevel=None,\n",
       "                                           colsample_bynode=None,\n",
       "                                           colsample_bytree=None, device=None,\n",
       "                                           early_stopping_rounds=None,\n",
       "                                           enable_categorical=False,\n",
       "                                           eval_metric=None, feature_types=None,\n",
       "                                           gamma=None, grow_policy=None,\n",
       "                                           importance_type=None,\n",
       "                                           interaction_constraints=None,\n",
       "                                           learning_rate...\n",
       "                                           max_delta_step=None, max_depth=None,\n",
       "                                           max_leaves=None,\n",
       "                                           min_child_weight=None, missing=nan,\n",
       "                                           monotone_constraints=None,\n",
       "                                           multi_strategy=None,\n",
       "                                           n_estimators=None, n_jobs=None,\n",
       "                                           num_parallel_tree=None,\n",
       "                                           random_state=None, ...),\n",
       "                   param_distributions={'learning_rate': [0.01, 0.1, 0.2],\n",
       "                                        'max_depth': [3, 5, 7],\n",
       "                                        'min_child_weight': [1, 3, 5],\n",
       "                                        'n_estimators': [100, 200, 300]},\n",
       "                   scoring='accuracy')"
      ]
     },
     "execution_count": 52,
     "metadata": {},
     "output_type": "execute_result"
    }
   ],
   "source": [
    "from sklearn.model_selection import RandomizedSearchCV\n",
    "from xgboost import XGBClassifier\n",
    "model_xgb=XGBClassifier()\n",
    "\n",
    "parameter =  {\n",
    "    'learning_rate': [0.01, 0.1, 0.2],\n",
    "    'n_estimators': [100, 200, 300],\n",
    "    'max_depth': [3, 5, 7],\n",
    "    'min_child_weight': [1, 3, 5],\n",
    "}\n",
    "\n",
    "random_search = RandomizedSearchCV(model_xgb, parameter, cv=5, scoring='accuracy')\n",
    "random_search.fit(X_train, y_train)"
   ]
  },
  {
   "cell_type": "code",
   "execution_count": 53,
   "metadata": {},
   "outputs": [
    {
     "data": {
      "text/plain": [
       "0.8983295330666266"
      ]
     },
     "execution_count": 53,
     "metadata": {},
     "output_type": "execute_result"
    }
   ],
   "source": [
    "random_search.best_score_"
   ]
  },
  {
   "cell_type": "code",
   "execution_count": 54,
   "metadata": {},
   "outputs": [],
   "source": [
    "model_xgb_tuned = random_search.best_estimator_"
   ]
  },
  {
   "cell_type": "markdown",
   "metadata": {},
   "source": [
    "## Model Testing"
   ]
  },
  {
   "cell_type": "code",
   "execution_count": 55,
   "metadata": {},
   "outputs": [
    {
     "name": "stdout",
     "output_type": "stream",
     "text": [
      "(78273, 10)\n"
     ]
    }
   ],
   "source": [
    "df_test.drop(['Tanggal_Asuransi', 'Sourcing_Channel', 'Izin_Mengemudi'], axis=1, inplace=True)\n",
    "print(df_test.shape)"
   ]
  },
  {
   "cell_type": "code",
   "execution_count": 56,
   "metadata": {},
   "outputs": [],
   "source": [
    "y_test_pred = model_xgb_tuned.predict(df_test)"
   ]
  },
  {
   "cell_type": "code",
   "execution_count": 57,
   "metadata": {},
   "outputs": [
    {
     "data": {
      "text/html": [
       "<div>\n",
       "<style scoped>\n",
       "    .dataframe tbody tr th:only-of-type {\n",
       "        vertical-align: middle;\n",
       "    }\n",
       "\n",
       "    .dataframe tbody tr th {\n",
       "        vertical-align: top;\n",
       "    }\n",
       "\n",
       "    .dataframe thead th {\n",
       "        text-align: right;\n",
       "    }\n",
       "</style>\n",
       "<table border=\"1\" class=\"dataframe\">\n",
       "  <thead>\n",
       "    <tr style=\"text-align: right;\">\n",
       "      <th></th>\n",
       "      <th>id</th>\n",
       "      <th>Target</th>\n",
       "    </tr>\n",
       "  </thead>\n",
       "  <tbody>\n",
       "    <tr>\n",
       "      <th>0</th>\n",
       "      <td>273737</td>\n",
       "      <td>0</td>\n",
       "    </tr>\n",
       "    <tr>\n",
       "      <th>1</th>\n",
       "      <td>49175</td>\n",
       "      <td>0</td>\n",
       "    </tr>\n",
       "    <tr>\n",
       "      <th>2</th>\n",
       "      <td>353494</td>\n",
       "      <td>0</td>\n",
       "    </tr>\n",
       "    <tr>\n",
       "      <th>3</th>\n",
       "      <td>182676</td>\n",
       "      <td>0</td>\n",
       "    </tr>\n",
       "    <tr>\n",
       "      <th>4</th>\n",
       "      <td>498206</td>\n",
       "      <td>0</td>\n",
       "    </tr>\n",
       "    <tr>\n",
       "      <th>...</th>\n",
       "      <td>...</td>\n",
       "      <td>...</td>\n",
       "    </tr>\n",
       "    <tr>\n",
       "      <th>78268</th>\n",
       "      <td>456819</td>\n",
       "      <td>0</td>\n",
       "    </tr>\n",
       "    <tr>\n",
       "      <th>78269</th>\n",
       "      <td>202443</td>\n",
       "      <td>0</td>\n",
       "    </tr>\n",
       "    <tr>\n",
       "      <th>78270</th>\n",
       "      <td>368881</td>\n",
       "      <td>0</td>\n",
       "    </tr>\n",
       "    <tr>\n",
       "      <th>78271</th>\n",
       "      <td>145064</td>\n",
       "      <td>0</td>\n",
       "    </tr>\n",
       "    <tr>\n",
       "      <th>78272</th>\n",
       "      <td>129190</td>\n",
       "      <td>0</td>\n",
       "    </tr>\n",
       "  </tbody>\n",
       "</table>\n",
       "<p>78273 rows × 2 columns</p>\n",
       "</div>"
      ],
      "text/plain": [
       "           id  Target\n",
       "0      273737       0\n",
       "1       49175       0\n",
       "2      353494       0\n",
       "3      182676       0\n",
       "4      498206       0\n",
       "...       ...     ...\n",
       "78268  456819       0\n",
       "78269  202443       0\n",
       "78270  368881       0\n",
       "78271  145064       0\n",
       "78272  129190       0\n",
       "\n",
       "[78273 rows x 2 columns]"
      ]
     },
     "execution_count": 57,
     "metadata": {},
     "output_type": "execute_result"
    }
   ],
   "source": [
    "hasil = pd.DataFrame({'id' : df_test['id'], 'Target' : y_test_pred})\n",
    "hasil"
   ]
  },
  {
   "cell_type": "code",
   "execution_count": 58,
   "metadata": {},
   "outputs": [],
   "source": [
    "hasil.to_csv('joints_submission.csv',index=False)"
   ]
  },
  {
   "cell_type": "markdown",
   "metadata": {},
   "source": [
    "### Public score:  0.90145"
   ]
  }
 ],
 "metadata": {
  "kernelspec": {
   "display_name": "Python 3 (ipykernel)",
   "language": "python",
   "name": "python3"
  },
  "language_info": {
   "codemirror_mode": {
    "name": "ipython",
    "version": 3
   },
   "file_extension": ".py",
   "mimetype": "text/x-python",
   "name": "python",
   "nbconvert_exporter": "python",
   "pygments_lexer": "ipython3",
   "version": "3.11.5"
  }
 },
 "nbformat": 4,
 "nbformat_minor": 4
}
